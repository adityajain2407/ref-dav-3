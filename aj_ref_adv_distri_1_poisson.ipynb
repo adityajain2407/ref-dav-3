{
  "cells": [
    {
      "cell_type": "markdown",
      "metadata": {
        "id": "view-in-github",
        "colab_type": "text"
      },
      "source": [
        "<a href=\"https://colab.research.google.com/github/adityajain2407/ref-dav-3/blob/main/aj_ref_adv_distri_1_poisson.ipynb\" target=\"_parent\"><img src=\"https://colab.research.google.com/assets/colab-badge.svg\" alt=\"Open In Colab\"/></a>"
      ]
    },
    {
      "cell_type": "code",
      "execution_count": 1,
      "id": "16f3b211",
      "metadata": {
        "id": "16f3b211"
      },
      "outputs": [],
      "source": [
        "import numpy as np\n",
        "import pandas as pd\n",
        "import seaborn as sns\n",
        "import matplotlib.pyplot as plt\n",
        "\n",
        "from scipy.stats import poisson, binom"
      ]
    },
    {
      "cell_type": "markdown",
      "id": "712b98c5",
      "metadata": {
        "heading_collapsed": true,
        "id": "712b98c5"
      },
      "source": [
        "# Accident"
      ]
    },
    {
      "cell_type": "markdown",
      "id": "2ce7ee48",
      "metadata": {
        "hidden": true,
        "id": "2ce7ee48"
      },
      "source": [
        "A city sees 3 accidents per day on average."
      ]
    },
    {
      "cell_type": "code",
      "execution_count": 2,
      "id": "389c0a28",
      "metadata": {
        "hidden": true,
        "colab": {
          "base_uri": "https://localhost:8080/"
        },
        "id": "389c0a28",
        "outputId": "0d40ee07-4dc0-442c-e183-e7fb5f9ad5e2"
      },
      "outputs": [
        {
          "output_type": "execute_result",
          "data": {
            "text/plain": [
              "0.10081881344492458"
            ]
          },
          "metadata": {},
          "execution_count": 2
        }
      ],
      "source": [
        "# Find the probability that there will be 5 accidents tomorrow\n",
        "poisson.pmf(k=5, mu=3)"
      ]
    },
    {
      "cell_type": "code",
      "execution_count": 3,
      "id": "197bde58",
      "metadata": {
        "hidden": true,
        "colab": {
          "base_uri": "https://localhost:8080/"
        },
        "id": "197bde58",
        "outputId": "51d60df5-6c87-4372-812b-00fe6f2d6f26"
      },
      "outputs": [
        {
          "output_type": "execute_result",
          "data": {
            "text/plain": [
              "0.9160820579686966"
            ]
          },
          "metadata": {},
          "execution_count": 3
        }
      ],
      "source": [
        "# Find the probability that there will be 5 or fewer accidents tomorrow\n",
        "poisson.cdf(k=5, mu=3)"
      ]
    },
    {
      "cell_type": "markdown",
      "id": "68ae5d79",
      "metadata": {
        "heading_collapsed": true,
        "id": "68ae5d79"
      },
      "source": [
        "# Typo example"
      ]
    },
    {
      "cell_type": "markdown",
      "id": "ed9aefb8",
      "metadata": {
        "hidden": true,
        "id": "ed9aefb8"
      },
      "source": [
        "Let “X” be the number of typos in a page in a printed book, with mean 3 typos per page. What is the probability that a randomly selected page has at most 1 typo?"
      ]
    },
    {
      "cell_type": "code",
      "execution_count": 4,
      "id": "e21bd964",
      "metadata": {
        "hidden": true,
        "colab": {
          "base_uri": "https://localhost:8080/"
        },
        "id": "e21bd964",
        "outputId": "bca3fa7c-c0a5-4ff7-c492-29f528d84145"
      },
      "outputs": [
        {
          "output_type": "execute_result",
          "data": {
            "text/plain": [
              "0.1991482734714558"
            ]
          },
          "metadata": {},
          "execution_count": 4
        }
      ],
      "source": [
        "poisson.cdf(k=1, mu=3)"
      ]
    },
    {
      "cell_type": "code",
      "execution_count": 5,
      "id": "6c732d5f",
      "metadata": {
        "hidden": true,
        "colab": {
          "base_uri": "https://localhost:8080/"
        },
        "id": "6c732d5f",
        "outputId": "728a7f5d-cf13-434f-d57d-69e8af981dd2"
      },
      "outputs": [
        {
          "output_type": "execute_result",
          "data": {
            "text/plain": [
              "0.1991482734714558"
            ]
          },
          "metadata": {},
          "execution_count": 5
        }
      ],
      "source": [
        "poisson.pmf(k=0, mu=3) + poisson.pmf(k=1, mu=3)"
      ]
    },
    {
      "cell_type": "markdown",
      "id": "f1bc8d5f",
      "metadata": {
        "heading_collapsed": true,
        "id": "f1bc8d5f"
      },
      "source": [
        "# Customers"
      ]
    },
    {
      "cell_type": "markdown",
      "id": "c662142e",
      "metadata": {
        "hidden": true,
        "id": "c662142e"
      },
      "source": [
        "A shop is open for 8 hours. The average number of customers is 74 - assume Poisson distributed."
      ]
    },
    {
      "cell_type": "markdown",
      "id": "6e02f0a4",
      "metadata": {
        "hidden": true,
        "id": "6e02f0a4"
      },
      "source": [
        "What is the probability that in 2 hours, there will be at most 15 customers?"
      ]
    },
    {
      "cell_type": "code",
      "execution_count": 6,
      "id": "141b943f",
      "metadata": {
        "hidden": true,
        "colab": {
          "base_uri": "https://localhost:8080/"
        },
        "id": "141b943f",
        "outputId": "3315f2d6-1740-4ba8-9f32-11288112a086"
      },
      "outputs": [
        {
          "output_type": "execute_result",
          "data": {
            "text/plain": [
              "18.5"
            ]
          },
          "metadata": {},
          "execution_count": 6
        }
      ],
      "source": [
        "# rate of 2 hours:\n",
        "74/4"
      ]
    },
    {
      "cell_type": "code",
      "execution_count": 7,
      "id": "eb87d5bd",
      "metadata": {
        "hidden": true,
        "colab": {
          "base_uri": "https://localhost:8080/"
        },
        "id": "eb87d5bd",
        "outputId": "2f1bec64-687c-4f56-843d-7507b8258a8c"
      },
      "outputs": [
        {
          "output_type": "execute_result",
          "data": {
            "text/plain": [
              "0.24902769151284776"
            ]
          },
          "metadata": {},
          "execution_count": 7
        }
      ],
      "source": [
        "poisson.cdf(k=15, mu=18.5)"
      ]
    },
    {
      "cell_type": "markdown",
      "id": "cca93ad1",
      "metadata": {
        "hidden": true,
        "id": "cca93ad1"
      },
      "source": [
        "What is the probability that in 2 hours, there will be at least 7 customers?"
      ]
    },
    {
      "cell_type": "code",
      "execution_count": 8,
      "id": "bec7194c",
      "metadata": {
        "hidden": true,
        "colab": {
          "base_uri": "https://localhost:8080/"
        },
        "id": "bec7194c",
        "outputId": "fb76da24-9c08-487b-9a68-918221348ea6"
      },
      "outputs": [
        {
          "output_type": "execute_result",
          "data": {
            "text/plain": [
              "0.9992622541111789"
            ]
          },
          "metadata": {},
          "execution_count": 8
        }
      ],
      "source": [
        "1 - poisson.cdf(k=6, mu=18.5)"
      ]
    },
    {
      "cell_type": "markdown",
      "id": "fd5d9a4a",
      "metadata": {
        "heading_collapsed": true,
        "id": "fd5d9a4a"
      },
      "source": [
        "# Messages"
      ]
    },
    {
      "cell_type": "markdown",
      "id": "9a0ce7de",
      "metadata": {
        "hidden": true,
        "id": "9a0ce7de"
      },
      "source": [
        "You receive 240 messages per hour on average - assume Poisson distributed.\n",
        "\n",
        "What is the probability of one message arriving over a 30 second time interval?"
      ]
    },
    {
      "cell_type": "code",
      "execution_count": 9,
      "id": "05f963e3",
      "metadata": {
        "hidden": true,
        "colab": {
          "base_uri": "https://localhost:8080/"
        },
        "id": "05f963e3",
        "outputId": "f69a4254-f810-4044-9546-711958aa7c6b"
      },
      "outputs": [
        {
          "output_type": "execute_result",
          "data": {
            "text/plain": [
              "2.0"
            ]
          },
          "metadata": {},
          "execution_count": 9
        }
      ],
      "source": [
        "30*240/3600 # rate"
      ]
    },
    {
      "cell_type": "code",
      "execution_count": 10,
      "id": "d0551000",
      "metadata": {
        "hidden": true,
        "colab": {
          "base_uri": "https://localhost:8080/"
        },
        "id": "d0551000",
        "outputId": "e3a6bedf-5371-49ce-89b0-8487b455f02e"
      },
      "outputs": [
        {
          "output_type": "execute_result",
          "data": {
            "text/plain": [
              "0.2706705664732254"
            ]
          },
          "metadata": {},
          "execution_count": 10
        }
      ],
      "source": [
        "poisson.pmf(k=1, mu=2)"
      ]
    },
    {
      "cell_type": "markdown",
      "id": "e89b7e49",
      "metadata": {
        "hidden": true,
        "id": "e89b7e49"
      },
      "source": [
        "What is the probability that there are no messages in 15 seconds?"
      ]
    },
    {
      "cell_type": "code",
      "execution_count": 11,
      "id": "0dbac4a3",
      "metadata": {
        "hidden": true,
        "colab": {
          "base_uri": "https://localhost:8080/"
        },
        "id": "0dbac4a3",
        "outputId": "897981f5-74d0-48f2-bab4-ccecd829b8d7"
      },
      "outputs": [
        {
          "output_type": "execute_result",
          "data": {
            "text/plain": [
              "1.0"
            ]
          },
          "metadata": {},
          "execution_count": 11
        }
      ],
      "source": [
        "15*240/3600 # rate"
      ]
    },
    {
      "cell_type": "code",
      "execution_count": 12,
      "id": "0b49ba5f",
      "metadata": {
        "hidden": true,
        "colab": {
          "base_uri": "https://localhost:8080/"
        },
        "id": "0b49ba5f",
        "outputId": "720b95a6-c728-459a-b402-e04af745ae22"
      },
      "outputs": [
        {
          "output_type": "execute_result",
          "data": {
            "text/plain": [
              "0.36787944117144233"
            ]
          },
          "metadata": {},
          "execution_count": 12
        }
      ],
      "source": [
        "poisson.pmf(k=0, mu=1)"
      ]
    },
    {
      "cell_type": "markdown",
      "id": "1217e45b",
      "metadata": {
        "heading_collapsed": true,
        "id": "1217e45b"
      },
      "source": [
        "# Kindergarten"
      ]
    },
    {
      "cell_type": "markdown",
      "id": "b78822b8",
      "metadata": {
        "hidden": true,
        "id": "b78822b8"
      },
      "source": [
        "There are 80 students in a kinder garden class.\n",
        "Each one of them has 0.015 probability of forgetting their lunch on any given day.\n",
        "\n",
        "What is the average or expected number of students who forgot lunch in the class?"
      ]
    },
    {
      "cell_type": "code",
      "execution_count": 13,
      "id": "cae6ade9",
      "metadata": {
        "hidden": true,
        "colab": {
          "base_uri": "https://localhost:8080/"
        },
        "id": "cae6ade9",
        "outputId": "9e6dba9c-d7e2-47a8-d1ad-2d6970bdb0fe"
      },
      "outputs": [
        {
          "output_type": "execute_result",
          "data": {
            "text/plain": [
              "1.2"
            ]
          },
          "metadata": {},
          "execution_count": 13
        }
      ],
      "source": [
        "80*0.015 # average or rate"
      ]
    },
    {
      "cell_type": "markdown",
      "id": "a0a28ee3",
      "metadata": {
        "hidden": true,
        "id": "a0a28ee3"
      },
      "source": [
        "What is the probability that exactly 3 of them will forget their lunch today?\n"
      ]
    },
    {
      "cell_type": "code",
      "execution_count": 14,
      "id": "9d0c6b63",
      "metadata": {
        "hidden": true,
        "colab": {
          "base_uri": "https://localhost:8080/"
        },
        "id": "9d0c6b63",
        "outputId": "ae7daba7-4738-4992-d2fa-7d48f1d48dc7"
      },
      "outputs": [
        {
          "output_type": "execute_result",
          "data": {
            "text/plain": [
              "0.08674393303071422"
            ]
          },
          "metadata": {},
          "execution_count": 14
        }
      ],
      "source": [
        "poisson.pmf(k=3, mu=1.2)"
      ]
    },
    {
      "cell_type": "code",
      "execution_count": 15,
      "id": "a87227e0",
      "metadata": {
        "hidden": true,
        "colab": {
          "base_uri": "https://localhost:8080/"
        },
        "id": "a87227e0",
        "outputId": "99f4f77b-30b0-49f9-b84d-846fa9288426"
      },
      "outputs": [
        {
          "output_type": "execute_result",
          "data": {
            "text/plain": [
              "0.08660120920447557"
            ]
          },
          "metadata": {},
          "execution_count": 15
        }
      ],
      "source": [
        "binom.pmf(k=3, n=80, p=0.015) # Large n, small p, np=mu"
      ]
    },
    {
      "cell_type": "markdown",
      "id": "01c4d8ca",
      "metadata": {
        "id": "01c4d8ca"
      },
      "source": [
        "# Poisson distribution"
      ]
    },
    {
      "cell_type": "code",
      "source": [
        "mu = 2.5\n",
        "\n",
        "x_values = np.arange(0, 10)\n",
        "y_values = poisson.pmf(x_values, mu=mu)\n",
        "sns.barplot(x=x_values, y=y_values)"
      ],
      "metadata": {
        "colab": {
          "base_uri": "https://localhost:8080/",
          "height": 448
        },
        "id": "gAMorJtXm1jb",
        "outputId": "90414a70-19f9-45e6-cebf-69217348a9c3"
      },
      "id": "gAMorJtXm1jb",
      "execution_count": 19,
      "outputs": [
        {
          "output_type": "execute_result",
          "data": {
            "text/plain": [
              "<Axes: >"
            ]
          },
          "metadata": {},
          "execution_count": 19
        },
        {
          "output_type": "display_data",
          "data": {
            "text/plain": [
              "<Figure size 640x480 with 1 Axes>"
            ],
            "image/png": "[encoded data removed]"
          },
          "metadata": {}
        }
      ]
    },
    {
      "cell_type": "code",
      "source": [
        "mu = 2.5\n",
        "\n",
        "x_values = np.arange(0, 30)\n",
        "y_values = poisson.pmf(x_values, mu=mu)\n",
        "sns.barplot(x=x_values, y=y_values)"
      ],
      "metadata": {
        "colab": {
          "base_uri": "https://localhost:8080/",
          "height": 448
        },
        "id": "XIBUyIMmm1B2",
        "outputId": "43e4065f-f7cf-4e31-f5b0-98c4dc27afef"
      },
      "id": "XIBUyIMmm1B2",
      "execution_count": 20,
      "outputs": [
        {
          "output_type": "execute_result",
          "data": {
            "text/plain": [
              "<Axes: >"
            ]
          },
          "metadata": {},
          "execution_count": 20
        },
        {
          "output_type": "display_data",
          "data": {
            "text/plain": [
              "<Figure size 640x480 with 1 Axes>"
            ],
            "image/png": "[encoded data removed]"
          },
          "metadata": {}
        }
      ]
    },
    {
      "cell_type": "code",
      "execution_count": 21,
      "id": "f06f66e7",
      "metadata": {
        "colab": {
          "base_uri": "https://localhost:8080/",
          "height": 448
        },
        "id": "f06f66e7",
        "outputId": "ca9de0eb-7331-4442-a0bc-9b2c910598f4"
      },
      "outputs": [
        {
          "output_type": "execute_result",
          "data": {
            "text/plain": [
              "<Axes: >"
            ]
          },
          "metadata": {},
          "execution_count": 21
        },
        {
          "output_type": "display_data",
          "data": {
            "text/plain": [
              "<Figure size 640x480 with 1 Axes>"
            ],
            "image/png": "[encoded data removed]"
          },
          "metadata": {}
        }
      ],
      "source": [
        "mu = 10\n",
        "\n",
        "x_values = np.arange(0, 30)\n",
        "y_values = poisson.pmf(x_values, mu=mu)\n",
        "sns.barplot(x=x_values, y=y_values)"
      ]
    },
    {
      "cell_type": "code",
      "source": [],
      "metadata": {
        "id": "36mL-X51m_ag"
      },
      "id": "36mL-X51m_ag",
      "execution_count": null,
      "outputs": []
    }
  ],
  "metadata": {
    "kernelspec": {
      "display_name": "Python 3 (ipykernel)",
      "language": "python",
      "name": "python3"
    },
    "language_info": {
      "codemirror_mode": {
        "name": "ipython",
        "version": 3
      },
      "file_extension": ".py",
      "mimetype": "text/x-python",
      "name": "python",
      "nbconvert_exporter": "python",
      "pygments_lexer": "ipython3",
      "version": "3.8.12"
    },
    "colab": {
      "provenance": [],
      "include_colab_link": true
    }
  },
  "nbformat": 4,
  "nbformat_minor": 5
}