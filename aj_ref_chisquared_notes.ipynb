{
  "cells": [
    {
      "cell_type": "markdown",
      "metadata": {
        "id": "view-in-github",
        "colab_type": "text"
      },
      "source": [
        "<a href=\"https://colab.research.google.com/github/adityajain2407/ref-dav-3/blob/main/aj_ref_chisquared_notes.ipynb\" target=\"_parent\"><img src=\"https://colab.research.google.com/assets/colab-badge.svg\" alt=\"Open In Colab\"/></a>"
      ]
    },
    {
      "cell_type": "code",
      "execution_count": null,
      "id": "c1114822",
      "metadata": {
        "id": "c1114822"
      },
      "outputs": [],
      "source": [
        "import numpy as np\n",
        "import pandas as pd\n",
        "import seaborn as sns\n",
        "import matplotlib.pyplot as plt\n",
        "\n",
        "from scipy.stats import chisquare # Statistical test (chistat, pvalue)\n",
        "from scipy.stats import chi2\n",
        "from scipy.stats import chi2_contingency"
      ]
    },
    {
      "cell_type": "markdown",
      "id": "2eda5f30",
      "metadata": {
        "heading_collapsed": true,
        "id": "2eda5f30"
      },
      "source": [
        "# Coin toss"
      ]
    },
    {
      "cell_type": "code",
      "execution_count": null,
      "id": "0c168ff5",
      "metadata": {
        "hidden": true,
        "id": "0c168ff5",
        "outputId": "9f9522e7-add9-4526-a7f2-49a1a7a35102"
      },
      "outputs": [
        {
          "name": "stdout",
          "output_type": "stream",
          "text": [
            "0.3961439091520741\n",
            "0.72\n",
            "Fail to reject H0\n",
            "Coin is fair\n"
          ]
        }
      ],
      "source": [
        "# H0: Coin is fair\n",
        "# Ha: Coin is biased\n",
        "alpha = 0.05\n",
        "chi_stat, p_value = chisquare(\n",
        "    [28, 22], # Observed or actual\n",
        "    [25, 25], # Expected\n",
        ")\n",
        "print(p_value)\n",
        "print(chi_stat)\n",
        "if p_value < alpha:\n",
        "    print(\"Reject H0\")\n",
        "else:\n",
        "    print(\"Fail to reject H0\")\n",
        "    print(\"Coin is fair\")"
      ]
    },
    {
      "cell_type": "code",
      "execution_count": null,
      "id": "d71cbf44",
      "metadata": {
        "hidden": true,
        "id": "d71cbf44",
        "outputId": "7ed4e404-a194-4996-cd90-cd48a62321de"
      },
      "outputs": [
        {
          "data": {
            "text/plain": [
              "0.72"
            ]
          },
          "execution_count": 12,
          "metadata": {},
          "output_type": "execute_result"
        }
      ],
      "source": [
        "(28 - 25)**2/25 + (22 - 25)**2 /25 # chi2stat"
      ]
    },
    {
      "cell_type": "code",
      "execution_count": null,
      "id": "2f271411",
      "metadata": {
        "hidden": true,
        "id": "2f271411",
        "outputId": "3e5cf720-d9a9-4633-ca44-3d0dd0bdd123"
      },
      "outputs": [
        {
          "data": {
            "text/plain": [
              "0.3961439091520741"
            ]
          },
          "execution_count": 15,
          "metadata": {},
          "output_type": "execute_result"
        }
      ],
      "source": [
        "1 - chi2.cdf(0.72, df=1) #finding p-=value this way using chi2 stat value"
      ]
    },
    {
      "cell_type": "code",
      "execution_count": null,
      "id": "79ccec2f",
      "metadata": {
        "hidden": true,
        "id": "79ccec2f",
        "outputId": "f12e39a5-6d6f-41cf-a8fa-6222c25dbcf3"
      },
      "outputs": [
        {
          "data": {
            "text/plain": [
              "3.841458820694124"
            ]
          },
          "execution_count": 14,
          "metadata": {},
          "output_type": "execute_result"
        }
      ],
      "source": [
        "chi2.ppf(0.95, df=1) #finding critical value of chisquare: with 95% confidence we can reject null hypo if chisuare value is greater than 3.84\n",
        "#so if more chisquare values are on the lower side, that means the differences square are small - so null hupo is supported"
      ]
    },
    {
      "cell_type": "code",
      "execution_count": null,
      "id": "8833fc90",
      "metadata": {
        "hidden": true,
        "id": "8833fc90",
        "outputId": "34438cab-4a1d-4f78-9bc7-2c7c35f9c36f"
      },
      "outputs": [
        {
          "data": {
            "text/plain": [
              "32.0"
            ]
          },
          "execution_count": 16,
          "metadata": {},
          "output_type": "execute_result"
        }
      ],
      "source": [
        "(45 - 25)**2/25 + (5 - 25)**2 /25 # chi2stat"
      ]
    },
    {
      "cell_type": "code",
      "execution_count": null,
      "id": "27867c17",
      "metadata": {
        "hidden": true,
        "id": "27867c17",
        "outputId": "0ccd889c-d75b-4e81-aaaf-03909fe400e3"
      },
      "outputs": [
        {
          "data": {
            "text/plain": [
              "1.5417257914762672e-08"
            ]
          },
          "execution_count": 17,
          "metadata": {},
          "output_type": "execute_result"
        }
      ],
      "source": [
        "1 - chi2.cdf(32, df=1)"
      ]
    },
    {
      "cell_type": "code",
      "execution_count": null,
      "id": "81053949",
      "metadata": {
        "hidden": true,
        "id": "81053949",
        "outputId": "46e5b577-3189-48f4-ba80-464bb1eb1aa8"
      },
      "outputs": [
        {
          "data": {
            "text/plain": [
              "Power_divergenceResult(statistic=32.0, pvalue=1.5417257900280013e-08)"
            ]
          },
          "execution_count": 18,
          "metadata": {},
          "output_type": "execute_result"
        }
      ],
      "source": [
        "chisquare(\n",
        "    [45, 5],\n",
        "    [25, 25]\n",
        ")"
      ]
    },
    {
      "cell_type": "code",
      "execution_count": null,
      "id": "3257d11a",
      "metadata": {
        "hidden": true,
        "id": "3257d11a",
        "outputId": "9d81f233-05c0-4a82-af7b-eb12ce857f4e"
      },
      "outputs": [
        {
          "data": {
            "text/plain": [
              "0.05004352124870515"
            ]
          },
          "execution_count": 19,
          "metadata": {},
          "output_type": "execute_result"
        }
      ],
      "source": [
        "1 - chi2.cdf(3.84, df=1) #3.84 is threshold for chisquare value: left of it, p val is large, right of it - small"
      ]
    },
    {
      "cell_type": "markdown",
      "id": "639fba4c",
      "metadata": {
        "heading_collapsed": true,
        "id": "639fba4c"
      },
      "source": [
        "# Gender Vs Offline and Online"
      ]
    },
    {
      "cell_type": "markdown",
      "id": "8d10180c",
      "metadata": {
        "hidden": true,
        "id": "8d10180c"
      },
      "source": [
        "Testing independence with chi2_contingency"
      ]
    },
    {
      "cell_type": "code",
      "execution_count": null,
      "id": "7c718139",
      "metadata": {
        "hidden": true,
        "id": "7c718139",
        "outputId": "b5af62a4-b19b-46fd-c7d0-111f5d09c4f9"
      },
      "outputs": [
        {
          "name": "stdout",
          "output_type": "stream",
          "text": [
            "57.04098674049609\n",
            "4.268230756875865e-14\n",
            "1\n",
            "[[484.08710033 114.91289967]\n",
            " [248.91289967  59.08710033]]\n",
            "Reject H0\n"
          ]
        }
      ],
      "source": [
        "# H0: Gender and preference are independent\n",
        "# H0: Preference depends on gender\n",
        "observed = [\n",
        "    [527, 72],\n",
        "    [206, 102],\n",
        "]\n",
        "\n",
        "chi_stat, p_value, df, exp_freq = chi2_contingency(observed) # chi_stat, p_value, df, expected values\n",
        "print(chi_stat)\n",
        "print(p_value)\n",
        "print(df)\n",
        "print(exp_freq)\n",
        "\n",
        "if p_value < 0.05:\n",
        "    print(\"Reject H0\")"
      ]
    },
    {
      "cell_type": "markdown",
      "id": "4b85b855",
      "metadata": {
        "id": "4b85b855"
      },
      "source": [
        "# Aerofit"
      ]
    },
    {
      "cell_type": "code",
      "execution_count": null,
      "id": "46a5d20f",
      "metadata": {
        "id": "46a5d20f"
      },
      "outputs": [],
      "source": [
        "df_aerofit = pd.read_csv(\"aerofit.csv\")"
      ]
    },
    {
      "cell_type": "code",
      "execution_count": null,
      "id": "f3455350",
      "metadata": {
        "id": "f3455350",
        "outputId": "12fe8251-2a74-49e3-a6e3-5889df901117"
      },
      "outputs": [
        {
          "data": {
            "text/html": [
              "<div>\n",
              "<style scoped>\n",
              "    .dataframe tbody tr th:only-of-type {\n",
              "        vertical-align: middle;\n",
              "    }\n",
              "\n",
              "    .dataframe tbody tr th {\n",
              "        vertical-align: top;\n",
              "    }\n",
              "\n",
              "    .dataframe thead th {\n",
              "        text-align: right;\n",
              "    }\n",
              "</style>\n",
              "<table border=\"1\" class=\"dataframe\">\n",
              "  <thead>\n",
              "    <tr style=\"text-align: right;\">\n",
              "      <th></th>\n",
              "      <th>Product</th>\n",
              "      <th>Age</th>\n",
              "      <th>Gender</th>\n",
              "      <th>Education</th>\n",
              "      <th>MaritalStatus</th>\n",
              "      <th>Usage</th>\n",
              "      <th>Fitness</th>\n",
              "      <th>Income</th>\n",
              "      <th>Miles</th>\n",
              "    </tr>\n",
              "  </thead>\n",
              "  <tbody>\n",
              "    <tr>\n",
              "      <th>0</th>\n",
              "      <td>KP281</td>\n",
              "      <td>18</td>\n",
              "      <td>Male</td>\n",
              "      <td>14</td>\n",
              "      <td>Single</td>\n",
              "      <td>3</td>\n",
              "      <td>4</td>\n",
              "      <td>29562</td>\n",
              "      <td>112</td>\n",
              "    </tr>\n",
              "    <tr>\n",
              "      <th>1</th>\n",
              "      <td>KP281</td>\n",
              "      <td>19</td>\n",
              "      <td>Male</td>\n",
              "      <td>15</td>\n",
              "      <td>Single</td>\n",
              "      <td>2</td>\n",
              "      <td>3</td>\n",
              "      <td>31836</td>\n",
              "      <td>75</td>\n",
              "    </tr>\n",
              "    <tr>\n",
              "      <th>2</th>\n",
              "      <td>KP281</td>\n",
              "      <td>19</td>\n",
              "      <td>Female</td>\n",
              "      <td>14</td>\n",
              "      <td>Partnered</td>\n",
              "      <td>4</td>\n",
              "      <td>3</td>\n",
              "      <td>30699</td>\n",
              "      <td>66</td>\n",
              "    </tr>\n",
              "    <tr>\n",
              "      <th>3</th>\n",
              "      <td>KP281</td>\n",
              "      <td>19</td>\n",
              "      <td>Male</td>\n",
              "      <td>12</td>\n",
              "      <td>Single</td>\n",
              "      <td>3</td>\n",
              "      <td>3</td>\n",
              "      <td>32973</td>\n",
              "      <td>85</td>\n",
              "    </tr>\n",
              "    <tr>\n",
              "      <th>4</th>\n",
              "      <td>KP281</td>\n",
              "      <td>20</td>\n",
              "      <td>Male</td>\n",
              "      <td>13</td>\n",
              "      <td>Partnered</td>\n",
              "      <td>4</td>\n",
              "      <td>2</td>\n",
              "      <td>35247</td>\n",
              "      <td>47</td>\n",
              "    </tr>\n",
              "  </tbody>\n",
              "</table>\n",
              "</div>"
            ],
            "text/plain": [
              "  Product  Age  Gender  Education MaritalStatus  Usage  Fitness  Income  Miles\n",
              "0   KP281   18    Male         14        Single      3        4   29562    112\n",
              "1   KP281   19    Male         15        Single      2        3   31836     75\n",
              "2   KP281   19  Female         14     Partnered      4        3   30699     66\n",
              "3   KP281   19    Male         12        Single      3        3   32973     85\n",
              "4   KP281   20    Male         13     Partnered      4        2   35247     47"
            ]
          },
          "execution_count": 25,
          "metadata": {},
          "output_type": "execute_result"
        }
      ],
      "source": [
        "df_aerofit.head()"
      ]
    },
    {
      "cell_type": "code",
      "execution_count": null,
      "id": "9e9297c6",
      "metadata": {
        "id": "9e9297c6",
        "outputId": "155722fa-99b4-4ac8-ca19-8951e82164d1"
      },
      "outputs": [
        {
          "data": {
            "text/html": [
              "<div>\n",
              "<style scoped>\n",
              "    .dataframe tbody tr th:only-of-type {\n",
              "        vertical-align: middle;\n",
              "    }\n",
              "\n",
              "    .dataframe tbody tr th {\n",
              "        vertical-align: top;\n",
              "    }\n",
              "\n",
              "    .dataframe thead th {\n",
              "        text-align: right;\n",
              "    }\n",
              "</style>\n",
              "<table border=\"1\" class=\"dataframe\">\n",
              "  <thead>\n",
              "    <tr style=\"text-align: right;\">\n",
              "      <th>Product</th>\n",
              "      <th>KP281</th>\n",
              "      <th>KP481</th>\n",
              "      <th>KP781</th>\n",
              "    </tr>\n",
              "    <tr>\n",
              "      <th>Gender</th>\n",
              "      <th></th>\n",
              "      <th></th>\n",
              "      <th></th>\n",
              "    </tr>\n",
              "  </thead>\n",
              "  <tbody>\n",
              "    <tr>\n",
              "      <th>Female</th>\n",
              "      <td>40</td>\n",
              "      <td>29</td>\n",
              "      <td>7</td>\n",
              "    </tr>\n",
              "    <tr>\n",
              "      <th>Male</th>\n",
              "      <td>40</td>\n",
              "      <td>31</td>\n",
              "      <td>33</td>\n",
              "    </tr>\n",
              "  </tbody>\n",
              "</table>\n",
              "</div>"
            ],
            "text/plain": [
              "Product  KP281  KP481  KP781\n",
              "Gender                      \n",
              "Female      40     29      7\n",
              "Male        40     31     33"
            ]
          },
          "execution_count": 28,
          "metadata": {},
          "output_type": "execute_result"
        }
      ],
      "source": [
        "gender_product = pd.crosstab(index=df_aerofit['Gender'],columns=df_aerofit['Product'])\n",
        "gender_product"
      ]
    },
    {
      "cell_type": "code",
      "execution_count": null,
      "id": "027ab4e4",
      "metadata": {
        "collapsed": true,
        "id": "027ab4e4",
        "outputId": "6f7049fe-2e59-4dc2-ed48-bd8a81906f07"
      },
      "outputs": [
        {
          "name": "stdout",
          "output_type": "stream",
          "text": [
            "12.923836032388664\n",
            "0.0015617972833158714\n",
            "2\n",
            "[[33.77777778 25.33333333 16.88888889]\n",
            " [46.22222222 34.66666667 23.11111111]]\n",
            "Reject H0\n",
            "Gender impacts product\n"
          ]
        }
      ],
      "source": [
        "# H0: Gender does not impact buying of product\n",
        "# Ha: Gender impacts product\n",
        "chi_stat, p_value, df, exp_value = chi2_contingency(gender_product) # chi_stat, p_value, df, expected value\n",
        "print(chi_stat)\n",
        "print(p_value)\n",
        "print(df)\n",
        "print(exp_value)\n",
        "if p_value < 0.05:\n",
        "    print(\"Reject H0\")\n",
        "    print(\"Gender impacts product\")"
      ]
    },
    {
      "cell_type": "code",
      "execution_count": null,
      "id": "1fa84967",
      "metadata": {
        "id": "1fa84967",
        "outputId": "7040015d-5ae5-452f-bec4-59672448d5ff"
      },
      "outputs": [
        {
          "data": {
            "text/plain": [
              "Chi2ContingencyResult(statistic=0.0005953595971967067, pvalue=0.9805335549105975, dof=1, expected_freq=array([[39.42857143, 29.57142857],\n",
              "       [40.57142857, 30.42857143]]))"
            ]
          },
          "execution_count": 31,
          "metadata": {},
          "output_type": "execute_result"
        }
      ],
      "source": [
        "# If KP781 data is not there\n",
        "# H0: Gender does not impact buying of product\n",
        "# Ha: Gender impacts product\n",
        "chi2_contingency([[40, 29], [40, 31]])"
      ]
    }
  ],
  "metadata": {
    "kernelspec": {
      "display_name": "Python 3 (ipykernel)",
      "language": "python",
      "name": "python3"
    },
    "language_info": {
      "codemirror_mode": {
        "name": "ipython",
        "version": 3
      },
      "file_extension": ".py",
      "mimetype": "text/x-python",
      "name": "python",
      "nbconvert_exporter": "python",
      "pygments_lexer": "ipython3",
      "version": "3.8.12"
    },
    "colab": {
      "provenance": [],
      "include_colab_link": true
    }
  },
  "nbformat": 4,
  "nbformat_minor": 5
}