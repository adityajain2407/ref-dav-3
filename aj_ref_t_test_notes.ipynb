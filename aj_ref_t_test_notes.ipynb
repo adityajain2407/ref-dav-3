{
  "cells": [
    {
      "cell_type": "markdown",
      "metadata": {
        "id": "view-in-github",
        "colab_type": "text"
      },
      "source": [
        "<a href=\"https://colab.research.google.com/github/adityajain2407/ref-dav-3/blob/main/aj_ref_t_test_notes.ipynb\" target=\"_parent\"><img src=\"https://colab.research.google.com/assets/colab-badge.svg\" alt=\"Open In Colab\"/></a>"
      ]
    },
    {
      "cell_type": "code",
      "execution_count": null,
      "id": "50999d5b",
      "metadata": {
        "id": "50999d5b"
      },
      "outputs": [],
      "source": [
        "import numpy as np\n",
        "import pandas as pd\n",
        "import seaborn as sns\n",
        "import matplotlib.pyplot as plt\n",
        "\n",
        "from scipy.stats import norm\n",
        "from scipy.stats import ttest_1samp, ttest_ind"
      ]
    },
    {
      "cell_type": "markdown",
      "id": "a4ec1d8b",
      "metadata": {
        "heading_collapsed": true,
        "id": "a4ec1d8b"
      },
      "source": [
        "# Pastries"
      ]
    },
    {
      "cell_type": "markdown",
      "id": "700875c6",
      "metadata": {
        "hidden": true,
        "id": "700875c6"
      },
      "source": [
        "A french cake shop claims that the average number of pastries they can produce in a day exceeds 500. The average number of pastries produced per day over a 70 day period was found to be 530. Assume that the population standard deviation for the pastries produced per day is 125. Test the claim using a z-test with the critical z-value = 1.64 at the alpha (significance level) = 0.05, and state your interpretation."
      ]
    },
    {
      "cell_type": "code",
      "execution_count": null,
      "id": "6389a1f8",
      "metadata": {
        "hidden": true,
        "id": "6389a1f8",
        "outputId": "16ff8cca-b4f7-4c20-b619-74cad03f6174"
      },
      "outputs": [
        {
          "name": "stdout",
          "output_type": "stream",
          "text": [
            "0.022322492581293485\n",
            "Reject H0\n"
          ]
        }
      ],
      "source": [
        "# First step: Set up H0 and Ha\n",
        "# H0: mu = 500 (mu <= 500 also works, but cannot computer p-value)\n",
        "# Ha: mu > 500\n",
        "\n",
        "\n",
        "z_stat = (530 - 500)/(125/np.sqrt(70))\n",
        "p_value = 1 - norm.cdf(z_stat)\n",
        "print(p_value)\n",
        "alpha = 0.05\n",
        "if p_value < alpha:\n",
        "    print(\"Reject H0\")\n",
        "else:\n",
        "    print(\"Do not reject H0\")"
      ]
    },
    {
      "cell_type": "code",
      "execution_count": null,
      "id": "d7e5fb33",
      "metadata": {
        "hidden": true,
        "id": "d7e5fb33",
        "outputId": "666761d3-8e40-4523-e2d8-7d8e82526785"
      },
      "outputs": [
        {
          "data": {
            "text/plain": [
              "524.574701413748"
            ]
          },
          "execution_count": 7,
          "metadata": {},
          "output_type": "execute_result"
        }
      ],
      "source": [
        "z = norm.ppf(0.95)\n",
        "x = 500 + z * 125/np.sqrt(70)\n",
        "x"
      ]
    },
    {
      "cell_type": "code",
      "execution_count": null,
      "id": "6eb461ec",
      "metadata": {
        "hidden": true,
        "id": "6eb461ec",
        "outputId": "a2f1c1f4-71e6-4a5a-f173-c0a7af438b7c"
      },
      "outputs": [
        {
          "data": {
            "text/plain": [
              "0.050000000000000044"
            ]
          },
          "execution_count": 9,
          "metadata": {},
          "output_type": "execute_result"
        }
      ],
      "source": [
        "# What is sales average was 524.57?\n",
        "1 - norm.cdf((524.574701413748-500)/(125/np.sqrt(70)))"
      ]
    },
    {
      "cell_type": "code",
      "execution_count": null,
      "id": "4e1d820d",
      "metadata": {
        "hidden": true,
        "id": "4e1d820d",
        "outputId": "f2affa6b-dac8-450d-e68e-2bf7d88870ff"
      },
      "outputs": [
        {
          "data": {
            "text/plain": [
              "0.0037107735265998754"
            ]
          },
          "execution_count": 8,
          "metadata": {},
          "output_type": "execute_result"
        }
      ],
      "source": [
        "# What if sales average was 540? What is the p-value?\n",
        "1 - norm.cdf((540-500)/(125/np.sqrt(70)))"
      ]
    },
    {
      "cell_type": "markdown",
      "id": "6f7a4d00",
      "metadata": {
        "heading_collapsed": true,
        "id": "6f7a4d00"
      },
      "source": [
        "# Improve IQ with a pill"
      ]
    },
    {
      "cell_type": "markdown",
      "id": "16ca703f",
      "metadata": {
        "hidden": true,
        "id": "16ca703f"
      },
      "source": [
        "Population IQ average = 100"
      ]
    },
    {
      "cell_type": "markdown",
      "id": "5bd2050c",
      "metadata": {
        "hidden": true,
        "id": "5bd2050c"
      },
      "source": [
        "One researcher claims that his pill will improve IQ"
      ]
    },
    {
      "cell_type": "code",
      "execution_count": null,
      "id": "969f6497",
      "metadata": {
        "hidden": true,
        "id": "969f6497"
      },
      "outputs": [],
      "source": [
        "# The pill is given to a few people and their IQ is tested with following results:\n",
        "iq_scores = [110, 105, 98, 102, 99, 104, 115, 95]"
      ]
    },
    {
      "cell_type": "code",
      "execution_count": null,
      "id": "6ca657cc",
      "metadata": {
        "hidden": true,
        "id": "6ca657cc",
        "outputId": "7150ebe1-f7ad-4aa3-8829-a64235c48143"
      },
      "outputs": [
        {
          "data": {
            "text/plain": [
              "103.5"
            ]
          },
          "execution_count": 11,
          "metadata": {},
          "output_type": "execute_result"
        }
      ],
      "source": [
        "np.mean(iq_scores)"
      ]
    },
    {
      "cell_type": "markdown",
      "id": "7cc0b598",
      "metadata": {
        "hidden": true,
        "id": "7cc0b598"
      },
      "source": [
        "Establish result at 99% confidence (0.01 significance \"alpha\")"
      ]
    },
    {
      "cell_type": "markdown",
      "id": "dad34a49",
      "metadata": {
        "hidden": true,
        "id": "dad34a49"
      },
      "source": [
        "Here we use T-test"
      ]
    },
    {
      "cell_type": "markdown",
      "id": "da72b7a7",
      "metadata": {
        "hidden": true,
        "id": "da72b7a7"
      },
      "source": [
        "H0: mu = 100 (pill has no effect)\n",
        "Ha: mu > 100 (pill has good effect)"
      ]
    },
    {
      "cell_type": "code",
      "execution_count": null,
      "id": "459c6328",
      "metadata": {
        "hidden": true,
        "id": "459c6328",
        "outputId": "e320e258-c543-45bd-a7a8-848d693bed30"
      },
      "outputs": [
        {
          "name": "stdout",
          "output_type": "stream",
          "text": [
            "0.1754994493585011\n",
            "1.5071573172061195\n"
          ]
        }
      ],
      "source": [
        "t_stat, p_value = ttest_1samp(iq_scores, 100)\n",
        "print(p_value)\n",
        "print(t_stat)"
      ]
    },
    {
      "cell_type": "code",
      "execution_count": null,
      "id": "53371180",
      "metadata": {
        "hidden": true,
        "id": "53371180",
        "outputId": "a35c15f6-4040-490b-c936-6c44ce6780dc"
      },
      "outputs": [
        {
          "name": "stdout",
          "output_type": "stream",
          "text": [
            "Fail to reject H0\n",
            "Pill has no effect\n"
          ]
        }
      ],
      "source": [
        "alpha = 0.01 # 99% confidence\n",
        "if p_value < alpha:\n",
        "    print(\"Reject H0\")\n",
        "else:\n",
        "    print(\"Fail to reject H0\")\n",
        "    print(\"Pill has no effect\")"
      ]
    },
    {
      "cell_type": "markdown",
      "id": "685a60d8",
      "metadata": {
        "heading_collapsed": true,
        "id": "685a60d8"
      },
      "source": [
        "# IQ across 2 schools"
      ]
    },
    {
      "cell_type": "code",
      "execution_count": null,
      "id": "4473959b",
      "metadata": {
        "hidden": true,
        "id": "4473959b"
      },
      "outputs": [],
      "source": [
        "df_iq = pd.read_csv(\"iq_two_schools.csv\")"
      ]
    },
    {
      "cell_type": "code",
      "execution_count": null,
      "id": "a2e866fa",
      "metadata": {
        "hidden": true,
        "id": "a2e866fa",
        "outputId": "84ecc03d-e482-406d-e6fc-88a08cfc9d5f"
      },
      "outputs": [
        {
          "data": {
            "text/html": [
              "<div>\n",
              "<style scoped>\n",
              "    .dataframe tbody tr th:only-of-type {\n",
              "        vertical-align: middle;\n",
              "    }\n",
              "\n",
              "    .dataframe tbody tr th {\n",
              "        vertical-align: top;\n",
              "    }\n",
              "\n",
              "    .dataframe thead th {\n",
              "        text-align: right;\n",
              "    }\n",
              "</style>\n",
              "<table border=\"1\" class=\"dataframe\">\n",
              "  <thead>\n",
              "    <tr style=\"text-align: right;\">\n",
              "      <th></th>\n",
              "      <th>School</th>\n",
              "      <th>iq</th>\n",
              "    </tr>\n",
              "  </thead>\n",
              "  <tbody>\n",
              "    <tr>\n",
              "      <th>0</th>\n",
              "      <td>school_1</td>\n",
              "      <td>91</td>\n",
              "    </tr>\n",
              "    <tr>\n",
              "      <th>1</th>\n",
              "      <td>school_1</td>\n",
              "      <td>95</td>\n",
              "    </tr>\n",
              "    <tr>\n",
              "      <th>2</th>\n",
              "      <td>school_1</td>\n",
              "      <td>110</td>\n",
              "    </tr>\n",
              "    <tr>\n",
              "      <th>3</th>\n",
              "      <td>school_1</td>\n",
              "      <td>112</td>\n",
              "    </tr>\n",
              "    <tr>\n",
              "      <th>4</th>\n",
              "      <td>school_1</td>\n",
              "      <td>115</td>\n",
              "    </tr>\n",
              "  </tbody>\n",
              "</table>\n",
              "</div>"
            ],
            "text/plain": [
              "     School   iq\n",
              "0  school_1   91\n",
              "1  school_1   95\n",
              "2  school_1  110\n",
              "3  school_1  112\n",
              "4  school_1  115"
            ]
          },
          "execution_count": 21,
          "metadata": {},
          "output_type": "execute_result"
        }
      ],
      "source": [
        "df_iq.head()"
      ]
    },
    {
      "cell_type": "code",
      "execution_count": null,
      "id": "8a4492fb",
      "metadata": {
        "hidden": true,
        "id": "8a4492fb",
        "outputId": "dde0de36-58b3-489d-e5c1-daa570e3db97"
      },
      "outputs": [
        {
          "data": {
            "text/plain": [
              "School\n",
              "school_1    101.153846\n",
              "school_2    109.416667\n",
              "Name: iq, dtype: float64"
            ]
          },
          "execution_count": 22,
          "metadata": {},
          "output_type": "execute_result"
        }
      ],
      "source": [
        "df_iq.groupby(\"School\")[\"iq\"].mean()"
      ]
    },
    {
      "cell_type": "code",
      "execution_count": null,
      "id": "e26c3810",
      "metadata": {
        "hidden": true,
        "id": "e26c3810"
      },
      "outputs": [],
      "source": [
        "iq_1 = df_iq[df_iq[\"School\"]==\"school_1\"][\"iq\"]\n",
        "iq_2 = df_iq[df_iq[\"School\"]==\"school_2\"][\"iq\"]"
      ]
    },
    {
      "cell_type": "code",
      "execution_count": null,
      "id": "b8fb5d9d",
      "metadata": {
        "hidden": true,
        "id": "b8fb5d9d",
        "outputId": "8fc0702a-1a22-45b1-c1ab-9ce1e81d567f"
      },
      "outputs": [
        {
          "name": "stdout",
          "output_type": "stream",
          "text": [
            "0.02004552710936216\n",
            "Reject H0\n"
          ]
        }
      ],
      "source": [
        "# H0: mu1 = mu2\n",
        "# Ha: mu1 != mu2\n",
        "\n",
        "t_stat, p_value = ttest_ind(iq_1, iq_2)\n",
        "print(p_value)\n",
        "if p_value < 0.05:\n",
        "    print(\"Reject H0\")\n",
        "else:\n",
        "    print(\"Fail to reject H0\")"
      ]
    },
    {
      "cell_type": "code",
      "execution_count": null,
      "id": "2b5c1189",
      "metadata": {
        "hidden": true,
        "id": "2b5c1189",
        "outputId": "fc19cbf7-adca-4587-fbce-f34564ffc8e3"
      },
      "outputs": [
        {
          "name": "stdout",
          "output_type": "stream",
          "text": [
            "0.989977236445319\n",
            "Fail to reject H0\n"
          ]
        }
      ],
      "source": [
        "# H0: mu1 = mu2\n",
        "# Ha: mu1 > mu2\n",
        "\n",
        "t_stat, p_value = ttest_ind(iq_1, iq_2, alternative=\"greater\")\n",
        "print(p_value)\n",
        "if p_value < 0.05:\n",
        "    print(\"Reject H0\")\n",
        "else:\n",
        "    print(\"Fail to reject H0\")"
      ]
    },
    {
      "cell_type": "code",
      "execution_count": null,
      "id": "1b7d3be4",
      "metadata": {
        "hidden": true,
        "id": "1b7d3be4",
        "outputId": "2f1f51df-a1c7-4e5f-a301-f67650bc7934"
      },
      "outputs": [
        {
          "name": "stdout",
          "output_type": "stream",
          "text": [
            "0.01002276355468108\n",
            "Reject H0\n"
          ]
        }
      ],
      "source": [
        "# H0: mu1 = mu2\n",
        "# Ha: mu1 < mu2\n",
        "\n",
        "t_stat, p_value = ttest_ind(iq_1, iq_2, alternative=\"less\")\n",
        "print(p_value)\n",
        "if p_value < 0.05:\n",
        "    print(\"Reject H0\")\n",
        "else:\n",
        "    print(\"Fail to reject H0\")"
      ]
    },
    {
      "cell_type": "markdown",
      "id": "e22375cd",
      "metadata": {
        "heading_collapsed": true,
        "id": "e22375cd"
      },
      "source": [
        "# Cricket"
      ]
    },
    {
      "cell_type": "code",
      "execution_count": null,
      "id": "4ae02a05",
      "metadata": {
        "hidden": true,
        "id": "4ae02a05"
      },
      "outputs": [],
      "source": [
        "df = pd.read_csv(\"Sachin_ODI.csv\")"
      ]
    },
    {
      "cell_type": "code",
      "execution_count": null,
      "id": "d57ac1c9",
      "metadata": {
        "hidden": true,
        "id": "d57ac1c9",
        "outputId": "437e5663-25d8-49e4-c9ec-2aa40297088a"
      },
      "outputs": [
        {
          "data": {
            "text/html": [
              "<div>\n",
              "<style scoped>\n",
              "    .dataframe tbody tr th:only-of-type {\n",
              "        vertical-align: middle;\n",
              "    }\n",
              "\n",
              "    .dataframe tbody tr th {\n",
              "        vertical-align: top;\n",
              "    }\n",
              "\n",
              "    .dataframe thead th {\n",
              "        text-align: right;\n",
              "    }\n",
              "</style>\n",
              "<table border=\"1\" class=\"dataframe\">\n",
              "  <thead>\n",
              "    <tr style=\"text-align: right;\">\n",
              "      <th></th>\n",
              "      <th>runs</th>\n",
              "      <th>NotOut</th>\n",
              "      <th>mins</th>\n",
              "      <th>bf</th>\n",
              "      <th>fours</th>\n",
              "      <th>sixes</th>\n",
              "      <th>sr</th>\n",
              "      <th>Inns</th>\n",
              "      <th>Opp</th>\n",
              "      <th>Ground</th>\n",
              "      <th>Date</th>\n",
              "      <th>Winner</th>\n",
              "      <th>Won</th>\n",
              "      <th>century</th>\n",
              "    </tr>\n",
              "  </thead>\n",
              "  <tbody>\n",
              "    <tr>\n",
              "      <th>0</th>\n",
              "      <td>13</td>\n",
              "      <td>0</td>\n",
              "      <td>30</td>\n",
              "      <td>15</td>\n",
              "      <td>3</td>\n",
              "      <td>0</td>\n",
              "      <td>86.66</td>\n",
              "      <td>1</td>\n",
              "      <td>New Zealand</td>\n",
              "      <td>Napier</td>\n",
              "      <td>1995-02-16</td>\n",
              "      <td>New Zealand</td>\n",
              "      <td>False</td>\n",
              "      <td>False</td>\n",
              "    </tr>\n",
              "    <tr>\n",
              "      <th>1</th>\n",
              "      <td>37</td>\n",
              "      <td>0</td>\n",
              "      <td>75</td>\n",
              "      <td>51</td>\n",
              "      <td>3</td>\n",
              "      <td>1</td>\n",
              "      <td>72.54</td>\n",
              "      <td>2</td>\n",
              "      <td>South Africa</td>\n",
              "      <td>Hamilton</td>\n",
              "      <td>1995-02-18</td>\n",
              "      <td>South Africa</td>\n",
              "      <td>False</td>\n",
              "      <td>False</td>\n",
              "    </tr>\n",
              "    <tr>\n",
              "      <th>2</th>\n",
              "      <td>47</td>\n",
              "      <td>0</td>\n",
              "      <td>65</td>\n",
              "      <td>40</td>\n",
              "      <td>7</td>\n",
              "      <td>0</td>\n",
              "      <td>117.50</td>\n",
              "      <td>2</td>\n",
              "      <td>Australia</td>\n",
              "      <td>Dunedin</td>\n",
              "      <td>1995-02-22</td>\n",
              "      <td>India</td>\n",
              "      <td>True</td>\n",
              "      <td>False</td>\n",
              "    </tr>\n",
              "    <tr>\n",
              "      <th>3</th>\n",
              "      <td>48</td>\n",
              "      <td>0</td>\n",
              "      <td>37</td>\n",
              "      <td>30</td>\n",
              "      <td>9</td>\n",
              "      <td>1</td>\n",
              "      <td>160.00</td>\n",
              "      <td>2</td>\n",
              "      <td>Bangladesh</td>\n",
              "      <td>Sharjah</td>\n",
              "      <td>1995-04-05</td>\n",
              "      <td>India</td>\n",
              "      <td>True</td>\n",
              "      <td>False</td>\n",
              "    </tr>\n",
              "    <tr>\n",
              "      <th>4</th>\n",
              "      <td>4</td>\n",
              "      <td>0</td>\n",
              "      <td>13</td>\n",
              "      <td>9</td>\n",
              "      <td>1</td>\n",
              "      <td>0</td>\n",
              "      <td>44.44</td>\n",
              "      <td>2</td>\n",
              "      <td>Pakistan</td>\n",
              "      <td>Sharjah</td>\n",
              "      <td>1995-04-07</td>\n",
              "      <td>Pakistan</td>\n",
              "      <td>False</td>\n",
              "      <td>False</td>\n",
              "    </tr>\n",
              "  </tbody>\n",
              "</table>\n",
              "</div>"
            ],
            "text/plain": [
              "   runs  NotOut mins  bf  fours  sixes      sr  Inns           Opp    Ground  \\\n",
              "0    13       0   30  15      3      0   86.66     1   New Zealand    Napier   \n",
              "1    37       0   75  51      3      1   72.54     2  South Africa  Hamilton   \n",
              "2    47       0   65  40      7      0  117.50     2     Australia   Dunedin   \n",
              "3    48       0   37  30      9      1  160.00     2    Bangladesh   Sharjah   \n",
              "4     4       0   13   9      1      0   44.44     2      Pakistan   Sharjah   \n",
              "\n",
              "         Date        Winner    Won  century  \n",
              "0  1995-02-16   New Zealand  False    False  \n",
              "1  1995-02-18  South Africa  False    False  \n",
              "2  1995-02-22         India   True    False  \n",
              "3  1995-04-05         India   True    False  \n",
              "4  1995-04-07      Pakistan  False    False  "
            ]
          },
          "execution_count": 31,
          "metadata": {},
          "output_type": "execute_result"
        }
      ],
      "source": [
        "df.head()"
      ]
    },
    {
      "cell_type": "markdown",
      "id": "8a20f08d",
      "metadata": {
        "hidden": true,
        "id": "8a20f08d"
      },
      "source": [
        "## Batting pattern in first and second innings"
      ]
    },
    {
      "cell_type": "code",
      "execution_count": null,
      "id": "1adcdda2",
      "metadata": {
        "hidden": true,
        "id": "1adcdda2",
        "outputId": "a76bccb5-3f52-4422-be15-8255d68f6ccc"
      },
      "outputs": [
        {
          "data": {
            "text/plain": [
              "Inns\n",
              "1    46.670588\n",
              "2    40.173684\n",
              "Name: runs, dtype: float64"
            ]
          },
          "execution_count": 32,
          "metadata": {},
          "output_type": "execute_result"
        }
      ],
      "source": [
        "df.groupby(\"Inns\")[\"runs\"].mean()"
      ]
    },
    {
      "cell_type": "code",
      "execution_count": null,
      "id": "e6580e0b",
      "metadata": {
        "hidden": true,
        "id": "e6580e0b"
      },
      "outputs": [],
      "source": [
        "df_first_innings = df[df[\"Inns\"]==1]\n",
        "df_second_innings = df[df[\"Inns\"]==2]"
      ]
    },
    {
      "cell_type": "code",
      "execution_count": null,
      "id": "014e0a78",
      "metadata": {
        "hidden": true,
        "id": "014e0a78",
        "outputId": "42bd607c-172f-4f19-848f-a00a4ee7347b"
      },
      "outputs": [
        {
          "name": "stdout",
          "output_type": "stream",
          "text": [
            "0.07241862097379982\n",
            "Fail to reject H0\n",
            "Difference we see is just chance\n"
          ]
        }
      ],
      "source": [
        "# H0: mu1 = mu2 (first and second inns essentially the same)\n",
        "# Ha: mu1 > mu2 (first inngs avg is significantly more)\n",
        "alpha = 0.05\n",
        "t_stat, p_value = ttest_ind(df_first_innings[\"runs\"], df_second_innings[\"runs\"], alternative=\"greater\")\n",
        "print(p_value)\n",
        "if p_value < alpha:\n",
        "    print(\"Reject H0\")\n",
        "    print(\"First innings is better\")\n",
        "else:\n",
        "    print(\"Fail to reject H0\")\n",
        "    print(\"Difference we see is just chance\")"
      ]
    },
    {
      "cell_type": "markdown",
      "id": "96e52781",
      "metadata": {
        "hidden": true,
        "id": "96e52781"
      },
      "source": [
        "## Victory Vs Defeat"
      ]
    },
    {
      "cell_type": "code",
      "execution_count": null,
      "id": "233f7096",
      "metadata": {
        "hidden": true,
        "id": "233f7096",
        "outputId": "88bb73e2-57de-4dc1-be0b-01e6bbb7d526"
      },
      "outputs": [
        {
          "data": {
            "text/plain": [
              "Won\n",
              "False    35.130682\n",
              "True     51.000000\n",
              "Name: runs, dtype: float64"
            ]
          },
          "execution_count": 36,
          "metadata": {},
          "output_type": "execute_result"
        }
      ],
      "source": [
        "df.groupby(\"Won\")[\"runs\"].mean()"
      ]
    },
    {
      "cell_type": "code",
      "execution_count": null,
      "id": "6186572f",
      "metadata": {
        "hidden": true,
        "id": "6186572f"
      },
      "outputs": [],
      "source": [
        "df_won = df[df[\"Won\"]==True]\n",
        "df_lost = df[df[\"Won\"]==False]"
      ]
    },
    {
      "cell_type": "code",
      "execution_count": null,
      "id": "a3433a6c",
      "metadata": {
        "hidden": true,
        "id": "a3433a6c",
        "outputId": "ce9a5545-6bde-433e-eb0e-996d43b13198"
      },
      "outputs": [
        {
          "name": "stdout",
          "output_type": "stream",
          "text": [
            "0.00016353077486826558\n",
            "Reject H0\n"
          ]
        }
      ],
      "source": [
        "# H0: mu1 = mu2 (same batting pattern)\n",
        "# Ha: mu1 > mu2 (better scores in matches won)\n",
        "alpha = 0.05\n",
        "test_stat, p_value = ttest_ind(df_won[\"runs\"], df_lost[\"runs\"], alternative=\"greater\")\n",
        "print(p_value)\n",
        "if p_value < alpha:\n",
        "    print(\"Reject H0\")\n",
        "else:\n",
        "    print(\"Fail to reject\")"
      ]
    },
    {
      "cell_type": "markdown",
      "id": "876f0e5b",
      "metadata": {
        "heading_collapsed": true,
        "id": "876f0e5b"
      },
      "source": [
        "# Drug recovery"
      ]
    },
    {
      "cell_type": "code",
      "execution_count": null,
      "id": "035408da",
      "metadata": {
        "collapsed": true,
        "hidden": true,
        "id": "035408da",
        "outputId": "df0ca4b6-94a0-40ea-aa1a-8714b1b75d60"
      },
      "outputs": [
        {
          "data": {
            "text/html": [
              "<div>\n",
              "<style scoped>\n",
              "    .dataframe tbody tr th:only-of-type {\n",
              "        vertical-align: middle;\n",
              "    }\n",
              "\n",
              "    .dataframe tbody tr th {\n",
              "        vertical-align: top;\n",
              "    }\n",
              "\n",
              "    .dataframe thead th {\n",
              "        text-align: right;\n",
              "    }\n",
              "</style>\n",
              "<table border=\"1\" class=\"dataframe\">\n",
              "  <thead>\n",
              "    <tr style=\"text-align: right;\">\n",
              "      <th></th>\n",
              "      <th>drug_1</th>\n",
              "    </tr>\n",
              "  </thead>\n",
              "  <tbody>\n",
              "    <tr>\n",
              "      <th>0</th>\n",
              "      <td>8.824208</td>\n",
              "    </tr>\n",
              "    <tr>\n",
              "      <th>1</th>\n",
              "      <td>7.477745</td>\n",
              "    </tr>\n",
              "    <tr>\n",
              "      <th>2</th>\n",
              "      <td>7.557121</td>\n",
              "    </tr>\n",
              "    <tr>\n",
              "      <th>3</th>\n",
              "      <td>7.981314</td>\n",
              "    </tr>\n",
              "    <tr>\n",
              "      <th>4</th>\n",
              "      <td>6.827716</td>\n",
              "    </tr>\n",
              "    <tr>\n",
              "      <th>...</th>\n",
              "      <td>...</td>\n",
              "    </tr>\n",
              "    <tr>\n",
              "      <th>95</th>\n",
              "      <td>6.890506</td>\n",
              "    </tr>\n",
              "    <tr>\n",
              "      <th>96</th>\n",
              "      <td>7.725759</td>\n",
              "    </tr>\n",
              "    <tr>\n",
              "      <th>97</th>\n",
              "      <td>6.848016</td>\n",
              "    </tr>\n",
              "    <tr>\n",
              "      <th>98</th>\n",
              "      <td>7.969997</td>\n",
              "    </tr>\n",
              "    <tr>\n",
              "      <th>99</th>\n",
              "      <td>7.104209</td>\n",
              "    </tr>\n",
              "  </tbody>\n",
              "</table>\n",
              "<p>100 rows × 1 columns</p>\n",
              "</div>"
            ],
            "text/plain": [
              "      drug_1\n",
              "0   8.824208\n",
              "1   7.477745\n",
              "2   7.557121\n",
              "3   7.981314\n",
              "4   6.827716\n",
              "..       ...\n",
              "95  6.890506\n",
              "96  7.725759\n",
              "97  6.848016\n",
              "98  7.969997\n",
              "99  7.104209\n",
              "\n",
              "[100 rows x 1 columns]"
            ]
          },
          "execution_count": 40,
          "metadata": {},
          "output_type": "execute_result"
        }
      ],
      "source": [
        "d1 = pd.read_csv(\"drug_1_recovery.csv\")\n",
        "d1"
      ]
    },
    {
      "cell_type": "code",
      "execution_count": null,
      "id": "3d532118",
      "metadata": {
        "hidden": true,
        "id": "3d532118",
        "outputId": "00d738fa-d7c9-4f29-c701-16ea2a21bcfc"
      },
      "outputs": [
        {
          "data": {
            "text/plain": [
              "drug_1    7.104917\n",
              "dtype: float64"
            ]
          },
          "execution_count": 41,
          "metadata": {},
          "output_type": "execute_result"
        }
      ],
      "source": [
        "d1.mean()"
      ]
    },
    {
      "cell_type": "code",
      "execution_count": null,
      "id": "39586fd5",
      "metadata": {
        "hidden": true,
        "id": "39586fd5"
      },
      "outputs": [],
      "source": [
        "d2 = pd.read_csv(\"drug_2_recovery.csv\")"
      ]
    },
    {
      "cell_type": "code",
      "execution_count": null,
      "id": "a0e881f4",
      "metadata": {
        "collapsed": true,
        "hidden": true,
        "id": "a0e881f4",
        "outputId": "0256d5cf-9f8c-4dfa-eb85-68c66a6435bb"
      },
      "outputs": [
        {
          "data": {
            "text/html": [
              "<div>\n",
              "<style scoped>\n",
              "    .dataframe tbody tr th:only-of-type {\n",
              "        vertical-align: middle;\n",
              "    }\n",
              "\n",
              "    .dataframe tbody tr th {\n",
              "        vertical-align: top;\n",
              "    }\n",
              "\n",
              "    .dataframe thead th {\n",
              "        text-align: right;\n",
              "    }\n",
              "</style>\n",
              "<table border=\"1\" class=\"dataframe\">\n",
              "  <thead>\n",
              "    <tr style=\"text-align: right;\">\n",
              "      <th></th>\n",
              "      <th>drug_2</th>\n",
              "    </tr>\n",
              "  </thead>\n",
              "  <tbody>\n",
              "    <tr>\n",
              "      <th>0</th>\n",
              "      <td>9.565974</td>\n",
              "    </tr>\n",
              "    <tr>\n",
              "      <th>1</th>\n",
              "      <td>7.492915</td>\n",
              "    </tr>\n",
              "    <tr>\n",
              "      <th>2</th>\n",
              "      <td>8.738418</td>\n",
              "    </tr>\n",
              "    <tr>\n",
              "      <th>3</th>\n",
              "      <td>7.635235</td>\n",
              "    </tr>\n",
              "    <tr>\n",
              "      <th>4</th>\n",
              "      <td>4.125593</td>\n",
              "    </tr>\n",
              "    <tr>\n",
              "      <th>...</th>\n",
              "      <td>...</td>\n",
              "    </tr>\n",
              "    <tr>\n",
              "      <th>115</th>\n",
              "      <td>7.861993</td>\n",
              "    </tr>\n",
              "    <tr>\n",
              "      <th>116</th>\n",
              "      <td>8.233510</td>\n",
              "    </tr>\n",
              "    <tr>\n",
              "      <th>117</th>\n",
              "      <td>5.876257</td>\n",
              "    </tr>\n",
              "    <tr>\n",
              "      <th>118</th>\n",
              "      <td>7.789454</td>\n",
              "    </tr>\n",
              "    <tr>\n",
              "      <th>119</th>\n",
              "      <td>8.836125</td>\n",
              "    </tr>\n",
              "  </tbody>\n",
              "</table>\n",
              "<p>120 rows × 1 columns</p>\n",
              "</div>"
            ],
            "text/plain": [
              "       drug_2\n",
              "0    9.565974\n",
              "1    7.492915\n",
              "2    8.738418\n",
              "3    7.635235\n",
              "4    4.125593\n",
              "..        ...\n",
              "115  7.861993\n",
              "116  8.233510\n",
              "117  5.876257\n",
              "118  7.789454\n",
              "119  8.836125\n",
              "\n",
              "[120 rows x 1 columns]"
            ]
          },
          "execution_count": 43,
          "metadata": {},
          "output_type": "execute_result"
        }
      ],
      "source": [
        "d2"
      ]
    },
    {
      "cell_type": "code",
      "execution_count": null,
      "id": "1618f11f",
      "metadata": {
        "hidden": true,
        "id": "1618f11f",
        "outputId": "5bd8d83c-df00-4395-b3b0-ffbe1f5b7385"
      },
      "outputs": [
        {
          "data": {
            "text/plain": [
              "drug_2    8.073423\n",
              "dtype: float64"
            ]
          },
          "execution_count": 44,
          "metadata": {},
          "output_type": "execute_result"
        }
      ],
      "source": [
        "d2.mean()"
      ]
    },
    {
      "cell_type": "code",
      "execution_count": null,
      "id": "8e164bf5",
      "metadata": {
        "hidden": true,
        "id": "8e164bf5",
        "outputId": "0c86421d-7793-41e9-f074-80479d98f922"
      },
      "outputs": [
        {
          "name": "stdout",
          "output_type": "stream",
          "text": [
            "[1.27713574e-07]\n",
            "Reject H0\n"
          ]
        }
      ],
      "source": [
        "# H0: mu1 = mu2\n",
        "# Ha: mu1 < mu2\n",
        "t_stat, p_value = ttest_ind(d1, d2, alternative=\"less\")\n",
        "print(p_value)\n",
        "if p_value < 0.05:\n",
        "    print(\"Reject H0\")\n",
        "else:\n",
        "    print(\"Fail to reject H0\")"
      ]
    },
    {
      "cell_type": "markdown",
      "id": "a5c72225",
      "metadata": {
        "heading_collapsed": true,
        "id": "a5c72225"
      },
      "source": [
        "# Aerofit"
      ]
    },
    {
      "cell_type": "code",
      "execution_count": null,
      "id": "ec74422c",
      "metadata": {
        "hidden": true,
        "id": "ec74422c"
      },
      "outputs": [],
      "source": [
        "df_aerofit = pd.read_csv(\"aerofit.csv\")"
      ]
    },
    {
      "cell_type": "code",
      "execution_count": null,
      "id": "07c78c3c",
      "metadata": {
        "hidden": true,
        "id": "07c78c3c",
        "outputId": "ab73307b-5fad-4ccc-ff6a-fd737dc6fb45"
      },
      "outputs": [
        {
          "data": {
            "text/html": [
              "<div>\n",
              "<style scoped>\n",
              "    .dataframe tbody tr th:only-of-type {\n",
              "        vertical-align: middle;\n",
              "    }\n",
              "\n",
              "    .dataframe tbody tr th {\n",
              "        vertical-align: top;\n",
              "    }\n",
              "\n",
              "    .dataframe thead th {\n",
              "        text-align: right;\n",
              "    }\n",
              "</style>\n",
              "<table border=\"1\" class=\"dataframe\">\n",
              "  <thead>\n",
              "    <tr style=\"text-align: right;\">\n",
              "      <th></th>\n",
              "      <th>Product</th>\n",
              "      <th>Age</th>\n",
              "      <th>Gender</th>\n",
              "      <th>Education</th>\n",
              "      <th>MaritalStatus</th>\n",
              "      <th>Usage</th>\n",
              "      <th>Fitness</th>\n",
              "      <th>Income</th>\n",
              "      <th>Miles</th>\n",
              "    </tr>\n",
              "  </thead>\n",
              "  <tbody>\n",
              "    <tr>\n",
              "      <th>0</th>\n",
              "      <td>KP281</td>\n",
              "      <td>18</td>\n",
              "      <td>Male</td>\n",
              "      <td>14</td>\n",
              "      <td>Single</td>\n",
              "      <td>3</td>\n",
              "      <td>4</td>\n",
              "      <td>29562</td>\n",
              "      <td>112</td>\n",
              "    </tr>\n",
              "    <tr>\n",
              "      <th>1</th>\n",
              "      <td>KP281</td>\n",
              "      <td>19</td>\n",
              "      <td>Male</td>\n",
              "      <td>15</td>\n",
              "      <td>Single</td>\n",
              "      <td>2</td>\n",
              "      <td>3</td>\n",
              "      <td>31836</td>\n",
              "      <td>75</td>\n",
              "    </tr>\n",
              "    <tr>\n",
              "      <th>2</th>\n",
              "      <td>KP281</td>\n",
              "      <td>19</td>\n",
              "      <td>Female</td>\n",
              "      <td>14</td>\n",
              "      <td>Partnered</td>\n",
              "      <td>4</td>\n",
              "      <td>3</td>\n",
              "      <td>30699</td>\n",
              "      <td>66</td>\n",
              "    </tr>\n",
              "    <tr>\n",
              "      <th>3</th>\n",
              "      <td>KP281</td>\n",
              "      <td>19</td>\n",
              "      <td>Male</td>\n",
              "      <td>12</td>\n",
              "      <td>Single</td>\n",
              "      <td>3</td>\n",
              "      <td>3</td>\n",
              "      <td>32973</td>\n",
              "      <td>85</td>\n",
              "    </tr>\n",
              "    <tr>\n",
              "      <th>4</th>\n",
              "      <td>KP281</td>\n",
              "      <td>20</td>\n",
              "      <td>Male</td>\n",
              "      <td>13</td>\n",
              "      <td>Partnered</td>\n",
              "      <td>4</td>\n",
              "      <td>2</td>\n",
              "      <td>35247</td>\n",
              "      <td>47</td>\n",
              "    </tr>\n",
              "  </tbody>\n",
              "</table>\n",
              "</div>"
            ],
            "text/plain": [
              "  Product  Age  Gender  Education MaritalStatus  Usage  Fitness  Income  Miles\n",
              "0   KP281   18    Male         14        Single      3        4   29562    112\n",
              "1   KP281   19    Male         15        Single      2        3   31836     75\n",
              "2   KP281   19  Female         14     Partnered      4        3   30699     66\n",
              "3   KP281   19    Male         12        Single      3        3   32973     85\n",
              "4   KP281   20    Male         13     Partnered      4        2   35247     47"
            ]
          },
          "execution_count": 47,
          "metadata": {},
          "output_type": "execute_result"
        }
      ],
      "source": [
        "df_aerofit.head()"
      ]
    },
    {
      "cell_type": "markdown",
      "id": "64be1c07",
      "metadata": {
        "hidden": true,
        "id": "64be1c07"
      },
      "source": [
        "Gender Vs Income"
      ]
    },
    {
      "cell_type": "code",
      "execution_count": null,
      "id": "7c7952c0",
      "metadata": {
        "hidden": true,
        "id": "7c7952c0",
        "outputId": "0728a9fb-f0bc-491e-b49d-e68066d79490"
      },
      "outputs": [
        {
          "data": {
            "text/plain": [
              "<AxesSubplot:xlabel='Gender', ylabel='Income'>"
            ]
          },
          "execution_count": 48,
          "metadata": {},
          "output_type": "execute_result"
        },
        {
          "data": {
            "image/png": "[encoded data removed]",
            "text/plain": [
              "<Figure size 432x288 with 1 Axes>"
            ]
          },
          "metadata": {
            "needs_background": "light"
          },
          "output_type": "display_data"
        }
      ],
      "source": [
        "sns.boxplot(x='Gender', y='Income', data=df_aerofit)"
      ]
    },
    {
      "cell_type": "code",
      "execution_count": null,
      "id": "446bc7ba",
      "metadata": {
        "hidden": true,
        "id": "446bc7ba"
      },
      "outputs": [],
      "source": [
        "income_male = df_aerofit[df_aerofit[\"Gender\"]==\"Male\"][\"Income\"]\n",
        "income_female = df_aerofit[df_aerofit[\"Gender\"]==\"Female\"][\"Income\"]"
      ]
    },
    {
      "cell_type": "code",
      "execution_count": null,
      "id": "b558e05b",
      "metadata": {
        "hidden": true,
        "id": "b558e05b",
        "outputId": "9bb15d1f-0ecf-4c1b-f279-930ed1194162"
      },
      "outputs": [
        {
          "data": {
            "text/plain": [
              "56562.75961538462"
            ]
          },
          "execution_count": 50,
          "metadata": {},
          "output_type": "execute_result"
        }
      ],
      "source": [
        "income_male.mean()"
      ]
    },
    {
      "cell_type": "code",
      "execution_count": null,
      "id": "c0f82a4e",
      "metadata": {
        "hidden": true,
        "id": "c0f82a4e",
        "outputId": "4577f291-4387-4dea-d18e-df03c9ea8da8"
      },
      "outputs": [
        {
          "data": {
            "text/plain": [
              "49828.90789473684"
            ]
          },
          "execution_count": 51,
          "metadata": {},
          "output_type": "execute_result"
        }
      ],
      "source": [
        "income_female.mean()"
      ]
    },
    {
      "cell_type": "code",
      "execution_count": null,
      "id": "24335d22",
      "metadata": {
        "hidden": true,
        "id": "24335d22",
        "outputId": "bbd043ed-3926-43ae-c1dc-3d454849d55c"
      },
      "outputs": [
        {
          "name": "stdout",
          "output_type": "stream",
          "text": [
            "0.003263631548607129\n",
            "Reject H0\n"
          ]
        }
      ],
      "source": [
        "# H0: same income\n",
        "# Ha: men having more income\n",
        "t_stat, p_value = ttest_ind(income_male, income_female, alternative=\"greater\")\n",
        "print(p_value)\n",
        "if p_value < 0.05:\n",
        "    print(\"Reject H0\")"
      ]
    }
  ],
  "metadata": {
    "kernelspec": {
      "display_name": "Python 3 (ipykernel)",
      "language": "python",
      "name": "python3"
    },
    "language_info": {
      "codemirror_mode": {
        "name": "ipython",
        "version": 3
      },
      "file_extension": ".py",
      "mimetype": "text/x-python",
      "name": "python",
      "nbconvert_exporter": "python",
      "pygments_lexer": "ipython3",
      "version": "3.8.12"
    },
    "colab": {
      "provenance": [],
      "include_colab_link": true
    }
  },
  "nbformat": 4,
  "nbformat_minor": 5
}